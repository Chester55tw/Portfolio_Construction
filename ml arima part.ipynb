{
 "cells": [
  {
   "cell_type": "code",
   "execution_count": 4,
   "id": "fd02301e",
   "metadata": {},
   "outputs": [],
   "source": [
    "import pandas as pd\n",
    "import matplotlib\n",
    "import matplotlib.pyplot as plt \n",
    "import numpy as np\n",
    "import warnings\n",
    "warnings.filterwarnings(\"ignore\")\n",
    "from datetime import datetime\n",
    "from statsmodels.tsa.stattools import acf , pacf\n",
    "from statsmodels.graphics.tsaplots import plot_pacf, plot_acf\n",
    "from sklearn.preprocessing import MinMaxScaler\n",
    "from pmdarima import auto_arima"
   ]
  },
  {
   "cell_type": "code",
   "execution_count": 5,
   "id": "c6e47fc3",
   "metadata": {},
   "outputs": [
    {
     "data": {
      "text/html": [
       "<div>\n",
       "<style scoped>\n",
       "    .dataframe tbody tr th:only-of-type {\n",
       "        vertical-align: middle;\n",
       "    }\n",
       "\n",
       "    .dataframe tbody tr th {\n",
       "        vertical-align: top;\n",
       "    }\n",
       "\n",
       "    .dataframe thead th {\n",
       "        text-align: right;\n",
       "    }\n",
       "</style>\n",
       "<table border=\"1\" class=\"dataframe\">\n",
       "  <thead>\n",
       "    <tr style=\"text-align: right;\">\n",
       "      <th></th>\n",
       "      <th>Open</th>\n",
       "      <th>High</th>\n",
       "      <th>Low</th>\n",
       "      <th>Close</th>\n",
       "      <th>Adj Close</th>\n",
       "      <th>Volume</th>\n",
       "    </tr>\n",
       "    <tr>\n",
       "      <th>Date</th>\n",
       "      <th></th>\n",
       "      <th></th>\n",
       "      <th></th>\n",
       "      <th></th>\n",
       "      <th></th>\n",
       "      <th></th>\n",
       "    </tr>\n",
       "  </thead>\n",
       "  <tbody>\n",
       "    <tr>\n",
       "      <th>1980-12-12</th>\n",
       "      <td>0.128348</td>\n",
       "      <td>0.128906</td>\n",
       "      <td>0.128348</td>\n",
       "      <td>0.128348</td>\n",
       "      <td>0.100323</td>\n",
       "      <td>469033600</td>\n",
       "    </tr>\n",
       "    <tr>\n",
       "      <th>1980-12-15</th>\n",
       "      <td>0.122210</td>\n",
       "      <td>0.122210</td>\n",
       "      <td>0.121652</td>\n",
       "      <td>0.121652</td>\n",
       "      <td>0.095089</td>\n",
       "      <td>175884800</td>\n",
       "    </tr>\n",
       "    <tr>\n",
       "      <th>1980-12-16</th>\n",
       "      <td>0.113281</td>\n",
       "      <td>0.113281</td>\n",
       "      <td>0.112723</td>\n",
       "      <td>0.112723</td>\n",
       "      <td>0.088110</td>\n",
       "      <td>105728000</td>\n",
       "    </tr>\n",
       "    <tr>\n",
       "      <th>1980-12-17</th>\n",
       "      <td>0.115513</td>\n",
       "      <td>0.116071</td>\n",
       "      <td>0.115513</td>\n",
       "      <td>0.115513</td>\n",
       "      <td>0.090291</td>\n",
       "      <td>86441600</td>\n",
       "    </tr>\n",
       "    <tr>\n",
       "      <th>1980-12-18</th>\n",
       "      <td>0.118862</td>\n",
       "      <td>0.119420</td>\n",
       "      <td>0.118862</td>\n",
       "      <td>0.118862</td>\n",
       "      <td>0.092908</td>\n",
       "      <td>73449600</td>\n",
       "    </tr>\n",
       "  </tbody>\n",
       "</table>\n",
       "</div>"
      ],
      "text/plain": [
       "                Open      High       Low     Close  Adj Close     Volume\n",
       "Date                                                                    \n",
       "1980-12-12  0.128348  0.128906  0.128348  0.128348   0.100323  469033600\n",
       "1980-12-15  0.122210  0.122210  0.121652  0.121652   0.095089  175884800\n",
       "1980-12-16  0.113281  0.113281  0.112723  0.112723   0.088110  105728000\n",
       "1980-12-17  0.115513  0.116071  0.115513  0.115513   0.090291   86441600\n",
       "1980-12-18  0.118862  0.119420  0.118862  0.118862   0.092908   73449600"
      ]
     },
     "execution_count": 5,
     "metadata": {},
     "output_type": "execute_result"
    }
   ],
   "source": [
    "df=pd.read_csv(\"C:/Users/Pansi/Downloads/AAPL(1).csv\")\n",
    "df.set_index('Date',inplace=True)\n",
    "df.head()"
   ]
  },
  {
   "cell_type": "code",
   "execution_count": 6,
   "id": "f0be60d8",
   "metadata": {},
   "outputs": [],
   "source": [
    "data = df.iloc[8000:].copy()"
   ]
  },
  {
   "cell_type": "code",
   "execution_count": 7,
   "id": "2e51ba45",
   "metadata": {},
   "outputs": [
    {
     "data": {
      "text/plain": [
       "Text(0, 0.5, 'Correlation Coefficient')"
      ]
     },
     "execution_count": 7,
     "metadata": {},
     "output_type": "execute_result"
    },
    {
     "data": {
      "image/png": "[encoded data removed]",
      "text/plain": [
       "<Figure size 432x288 with 1 Axes>"
      ]
     },
     "metadata": {
      "needs_background": "light"
     },
     "output_type": "display_data"
    }
   ],
   "source": [
    "apprice = data['Close']\n",
    "plot_pacf(apprice, lags=15)\n",
    "plt.title(\"PACF of petrol price\")\n",
    "plt.xlabel(\"Lag at k\")\n",
    "plt.ylabel(\"Correlation Coefficient\")"
   ]
  },
  {
   "cell_type": "markdown",
   "id": "1113d828",
   "metadata": {},
   "source": [
    "We should see the lag 1 and 2 order explain most of the higher order. we should use order 1 or 2 autoregression to fit.  "
   ]
  },
  {
   "cell_type": "code",
   "execution_count": 8,
   "id": "888721d0",
   "metadata": {},
   "outputs": [
    {
     "name": "stdout",
     "output_type": "stream",
     "text": [
      "ADF statistic is: 1.901892966927382\n",
      "p value: 0.9985310583583394\n"
     ]
    }
   ],
   "source": [
    "from statsmodels.tsa.stattools import adfuller\n",
    "adf = adfuller(apprice)\n",
    "print('ADF statistic is:',adf[0])\n",
    "print('p value:', adf[1])"
   ]
  },
  {
   "cell_type": "markdown",
   "id": "b7f5a456",
   "metadata": {},
   "source": [
    "From p value we know the stock price is not stationary"
   ]
  },
  {
   "cell_type": "code",
   "execution_count": 9,
   "id": "af0d4861",
   "metadata": {},
   "outputs": [
    {
     "name": "stdout",
     "output_type": "stream",
     "text": [
      "ADF statistic is: -10.575146707847072\n",
      "p value: 7.137349773187612e-19\n"
     ]
    }
   ],
   "source": [
    "pdiff1 = apprice.diff(1).bfill()\n",
    "adf = adfuller(pdiff1)\n",
    "print('ADF statistic is:',adf[0])\n",
    "print('p value:', adf[1])"
   ]
  },
  {
   "cell_type": "markdown",
   "id": "259f5fd8",
   "metadata": {},
   "source": [
    "From p value we know the difference of the price is stationary"
   ]
  },
  {
   "cell_type": "code",
   "execution_count": 10,
   "id": "cd1426ed",
   "metadata": {},
   "outputs": [
    {
     "data": {
      "text/plain": [
       "Text(0.5, 0, 'Lag at k')"
      ]
     },
     "execution_count": 10,
     "metadata": {},
     "output_type": "execute_result"
    },
    {
     "data": {
      "image/png": "[encoded data removed]",
      "text/plain": [
       "<Figure size 432x288 with 1 Axes>"
      ]
     },
     "metadata": {
      "needs_background": "light"
     },
     "output_type": "display_data"
    }
   ],
   "source": [
    "plot_pacf(pdiff1, lags=15)\n",
    "plt.xlabel(\"Lag at k\")"
   ]
  },
  {
   "cell_type": "markdown",
   "id": "a7c91c63",
   "metadata": {},
   "source": [
    "take p = 1"
   ]
  },
  {
   "cell_type": "code",
   "execution_count": 11,
   "id": "b2162104",
   "metadata": {},
   "outputs": [
    {
     "data": {
      "text/plain": [
       "Text(0.5, 0, 'Lag at k')"
      ]
     },
     "execution_count": 11,
     "metadata": {},
     "output_type": "execute_result"
    },
    {
     "data": {
      "image/png": "[encoded data removed]",
      "text/plain": [
       "<Figure size 432x288 with 1 Axes>"
      ]
     },
     "metadata": {
      "needs_background": "light"
     },
     "output_type": "display_data"
    }
   ],
   "source": [
    "plot_acf(pdiff1, lags=15)\n",
    "plt.xlabel(\"Lag at k\")"
   ]
  },
  {
   "cell_type": "markdown",
   "id": "75a49305",
   "metadata": {},
   "source": [
    "take q = 1"
   ]
  },
  {
   "cell_type": "code",
   "execution_count": 12,
   "id": "0dda40d0",
   "metadata": {},
   "outputs": [],
   "source": [
    "from statsmodels.tsa.arima.model import ARIMA\n",
    "\n",
    "#print(model_fit.summary())\n"
   ]
  },
  {
   "cell_type": "code",
   "execution_count": 37,
   "id": "0dd27755",
   "metadata": {},
   "outputs": [
    {
     "data": {
      "image/png": "[encoded data removed]",
      "text/plain": [
       "<Figure size 432x288 with 1 Axes>"
      ]
     },
     "metadata": {
      "needs_background": "light"
     },
     "output_type": "display_data"
    }
   ],
   "source": [
    "\n",
    "train = apprice[:-300]\n",
    "test =  apprice[-300:]\n",
    "model = ARIMA(train, order = (1,1,1), seasonal_order = (1,1,1,12))\n",
    "model_fit = model.fit()\n",
    "forcast = model_fit.forecast(300, D=1, alpha=0.05)\n",
    "forcast_series = pd.Series(forcast.values, index=test.index)\n",
    "#lower_bound = pd.Series(conf_int[:, 0], index=test.index)\n",
    "#upper_bound = pd.Series(conf_int[:, 1], index=test.index)\n",
    "\n",
    "# Plot\n",
    "#plt.figure(figsize=(10,7), dpi=100)\n",
    "plt.plot(train, label='training')\n",
    "plt.plot(test, 'g:', label='actual')\n",
    "plt.plot(forcast_series ,'b--', label='forecast')\n",
    "\n",
    "plt.title('Forecast vs Actuals')\n",
    "plt.legend(loc='upper left', fontsize=8)\n",
    "plt.show()"
   ]
  },
  {
   "cell_type": "code",
   "execution_count": null,
   "id": "3d207abc",
   "metadata": {},
   "outputs": [],
   "source": []
  }
 ],
 "metadata": {
  "kernelspec": {
   "display_name": "Python 3 (ipykernel)",
   "language": "python",
   "name": "python3"
  },
  "language_info": {
   "codemirror_mode": {
    "name": "ipython",
    "version": 3
   },
   "file_extension": ".py",
   "mimetype": "text/x-python",
   "name": "python",
   "nbconvert_exporter": "python",
   "pygments_lexer": "ipython3",
   "version": "3.9.12"
  }
 },
 "nbformat": 4,
 "nbformat_minor": 5
}
